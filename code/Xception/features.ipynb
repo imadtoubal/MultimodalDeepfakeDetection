{
 "cells": [
  {
   "cell_type": "code",
   "execution_count": 6,
   "metadata": {},
   "outputs": [],
   "source": [
    "from xception import xception\n",
    "import torch"
   ]
  },
  {
   "cell_type": "code",
   "execution_count": 7,
   "metadata": {
    "tags": []
   },
   "outputs": [],
   "source": [
    "model = xception()"
   ]
  },
  {
   "cell_type": "code",
   "execution_count": 9,
   "metadata": {},
   "outputs": [
    {
     "output_type": "execute_result",
     "data": {
      "text/plain": "(torch.Size([1, 1000]), torch.Size([1, 2048, 10, 10]))"
     },
     "metadata": {},
     "execution_count": 9
    }
   ],
   "source": [
    "x, xf = model(torch.ones(1, 3, 299, 299))\n",
    "x.shape, xf.shape"
   ]
  },
  {
   "cell_type": "code",
   "execution_count": null,
   "metadata": {},
   "outputs": [],
   "source": []
  }
 ],
 "metadata": {
  "language_info": {
   "codemirror_mode": {
    "name": "ipython",
    "version": 3
   },
   "file_extension": ".py",
   "mimetype": "text/x-python",
   "name": "python",
   "nbconvert_exporter": "python",
   "pygments_lexer": "ipython3",
   "version": "3.6.10-final"
  },
  "orig_nbformat": 2,
  "kernelspec": {
   "name": "python361064bitdlibconda02bd52e6832f426abb8ab470c48aa640",
   "display_name": "Python 3.6.10 64-bit ('dlib': conda)"
  }
 },
 "nbformat": 4,
 "nbformat_minor": 2
}