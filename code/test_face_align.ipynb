{
 "cells": [
  {
   "cell_type": "code",
   "execution_count": 2,
   "metadata": {},
   "outputs": [],
   "source": [
    "import face_alignment\n",
    "import matplotlib.pyplot as plt\n",
    "from mpl_toolkits.mplot3d import Axes3D\n",
    "import collections\n",
    "import cv2\n",
    "import os\n",
    "from matplotlib import pyplot as plt\n",
    "from IPython.display import Video\n",
    "import random\n",
    "import time"
   ]
  },
  {
   "cell_type": "code",
   "execution_count": 1,
   "metadata": {},
   "outputs": [],
   "source": [
    "DATA_FOLDER = 'train_sample_videos'\n",
    "time_to_detect_landmarks = 0\n",
    "time_to_render_landmark_dots = 0\n",
    "time_to_read = 0\n",
    "time_to_write = 0\n"
   ]
  },
  {
   "cell_type": "code",
   "execution_count": 7,
   "metadata": {},
   "outputs": [],
   "source": [
    "def plot_landmarks(img, landmark_locs):\n",
    "    start = time.time()\n",
    "    for point in landmark_locs:\n",
    "        cv2.circle(img, (point[0], point[1]), 1, (0, 0, 255))\n",
    "    return img, time.time() - start\n",
    "\n",
    "def detect_landmarks(path, file_name, fa):\n",
    "    capture = cv2.VideoCapture(os.path.join(path, file_name))\n",
    "    width  = int(capture.get(3))\n",
    "    height = int(capture.get(4))\n",
    "    global time_to_detect_landmarks, time_to_render_landmark_dots, time_to_read, time_to_write\n",
    "    out = cv2.VideoWriter('hard_landmarks_{}'.format(file_name), cv2.VideoWriter_fourcc(\n",
    "            'M', 'P', '4', 'V'), 30, (width, height))\n",
    "    while capture.isOpened():\n",
    "        start = time.time()\n",
    "        success, frame = capture.read()\n",
    "        time_to_read += time.time() - start\n",
    "        if not success:\n",
    "            # we have reached the end of the video\n",
    "            break\n",
    "        start = time.time()\n",
    "        preds = fa.get_landmarks(frame)\n",
    "        time_to_detect_landmarks += time.time() - start\n",
    "        if preds:\n",
    "            img, plot_time = plot_landmarks(frame, preds[0])\n",
    "            time_to_render_landmark_dots += plot_time\n",
    "        start = time.time()\n",
    "        out.write(img)\n",
    "        time_to_write += time.time()-start\n",
    "    capture.release()\n",
    "    out.release()"
   ]
  },
  {
   "cell_type": "code",
   "execution_count": 6,
   "metadata": {
    "scrolled": true
   },
   "outputs": [],
   "source": [
    "def main():\n",
    "    fa = face_alignment.FaceAlignment(face_alignment.LandmarksType._2D)\n",
    "    vids = random.sample(os.listdir(DATA_FOLDER), 1)\n",
    "    for vid in vids:\n",
    "        detect_landmarks(DATA_FOLDER, vid, fa)\n",
    "    \n"
   ]
  },
  {
   "cell_type": "code",
   "execution_count": 8,
   "metadata": {},
   "outputs": [
    {
     "name": "stdout",
     "output_type": "stream",
     "text": [
      "Detect Landmarks: 388.9982144832611 sec\n",
      "Draw Landmarks: 0.036188602447509766 sec\n",
      "Read Video: 1.424062967300415 sec\n",
      "Write Video: 4.209910154342651 sec\n",
      "total: 395.4751238822937 sec\n"
     ]
    }
   ],
   "source": [
    "\n",
    "start = time.time()\n",
    "main()\n",
    "total = time.time() - start\n",
    "print('Detect Landmarks: {} sec'.format(time_to_detect_landmarks))\n",
    "print('Draw Landmarks: {} sec'.format(time_to_render_landmark_dots))\n",
    "print('Read Video: {} sec'.format(time_to_read))\n",
    "print('Write Video: {} sec'.format(time_to_write))\n",
    "print('total: {} sec'.format(total))"
   ]
  },
  {
   "cell_type": "code",
   "execution_count": 7,
   "metadata": {},
   "outputs": [
    {
     "name": "stdout",
     "output_type": "stream",
     "text": [
      "NAME VIDEO: abofeumbvv.mp4\n",
      "\n",
      "\n",
      "\n",
      "NAME VIDEO: ooafcxxfrs.mp4\n",
      "\n",
      "\n",
      "\n",
      "NAME VIDEO: bmehkyanbj.mp4\n",
      "\n",
      "\n",
      "\n",
      "NAME VIDEO: cmxcfkrjiv.mp4\n",
      "\n",
      "\n",
      "\n",
      "NAME VIDEO: eebserckhh.mp4\n",
      "Warning: No faces were detected.\n",
      "\n",
      "\n",
      "\n",
      "NAME VIDEO: aagfhgtpmv.mp4\n",
      "\n",
      "\n",
      "\n"
     ]
    }
   ],
   "source": [
    "fa = face_alignment.FaceAlignment(face_alignment.LandmarksType._2D)\n",
    "\n",
    "# potentially hard to detect videos:\n",
    "harder_vids = ['abofeumbvv.mp4', 'ooafcxxfrs.mp4', 'bmehkyanbj.mp4', 'cmxcfkrjiv.mp4', 'eebserckhh.mp4', 'aagfhgtpmv.mp4']\n",
    "for vid in harder_vids:\n",
    "    print('NAME VIDEO:', vid)\n",
    "    detect_landmarks(DATA_FOLDER, vid, fa) \n",
    "    print('\\n\\n')"
   ]
  }
 ],
 "metadata": {
  "kernelspec": {
   "display_name": "Python 3",
   "language": "python",
   "name": "python3"
  },
  "language_info": {
   "codemirror_mode": {
    "name": "ipython",
    "version": 3
   },
   "file_extension": ".py",
   "mimetype": "text/x-python",
   "name": "python",
   "nbconvert_exporter": "python",
   "pygments_lexer": "ipython3",
   "version": "3.7.7"
  }
 },
 "nbformat": 4,
 "nbformat_minor": 4
}
