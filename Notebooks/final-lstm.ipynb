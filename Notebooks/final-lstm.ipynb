{
 "cells": [
  {
   "cell_type": "code",
   "execution_count": 1,
   "metadata": {},
   "outputs": [],
   "source": [
    "import torch\n",
    "import os"
   ]
  },
  {
   "cell_type": "code",
   "execution_count": 2,
   "metadata": {},
   "outputs": [
    {
     "data": {
      "text/plain": [
       "tensor([1.], device='cuda:0')"
      ]
     },
     "execution_count": 2,
     "metadata": {},
     "output_type": "execute_result"
    }
   ],
   "source": [
    "torch.ones(1).cuda()"
   ]
  },
  {
   "cell_type": "code",
   "execution_count": 5,
   "metadata": {},
   "outputs": [
    {
     "name": "stdout",
     "output_type": "stream",
     "text": [
      "Fetching package metadata ..."
     ]
    }
   ],
   "source": [
    "!conda install pytorch torchvision cudatoolkit=10.2 -c pytorch -y"
   ]
  },
  {
   "cell_type": "code",
   "execution_count": 4,
   "metadata": {},
   "outputs": [
    {
     "name": "stdout",
     "output_type": "stream",
     "text": [
      "ls: cannot access /home/itdfh/data/dfdc-subset/train_spectrograms_part-5/real/: No such file or directory\r\n"
     ]
    }
   ],
   "source": [
    "!ls /home/itdfh/data/dfdc-subset/train_spectrograms_part-5/real/ | head -10"
   ]
  },
  {
   "cell_type": "code",
   "execution_count": 5,
   "metadata": {},
   "outputs": [],
   "source": [
    "def get_feats(directory, nfirst=25, feats=700):\n",
    "    vidpaths = sorted([os.path.join(directory, p) for p in os.listdir(directory)])\n",
    "\n",
    "    samples = []\n",
    "    for vp in vidpaths:\n",
    "        samples.extend([os.path.join(vp, p) for p in sorted(os.listdir(vp)) if p[-5:] == '24.pt'])\n",
    "        \n",
    "    samples = samples[:nfirst]\n",
    "    return torch.stack([torch.load(sample, map_location=torch.device('cpu'))[:,:feats] for sample in samples])"
   ]
  },
  {
   "cell_type": "code",
   "execution_count": 6,
   "metadata": {},
   "outputs": [
    {
     "data": {
      "text/plain": [
       "torch.Size([25, 24, 700])"
      ]
     },
     "execution_count": 6,
     "metadata": {},
     "output_type": "execute_result"
    }
   ],
   "source": [
    "data_spec = get_feats('/home/itdfh/data/dfdc-subset/train_spectrograms_part-5/fake/')\n",
    "data_spec.shape"
   ]
  },
  {
   "cell_type": "code",
   "execution_count": 7,
   "metadata": {},
   "outputs": [
    {
     "data": {
      "text/plain": [
       "torch.Size([25, 24, 2048])"
      ]
     },
     "execution_count": 7,
     "metadata": {},
     "output_type": "execute_result"
    }
   ],
   "source": [
    "data_xcep = get_feats('/home/itdfh/data/dfdc-subset/train_xception_part-5/fake/', feats=2048)\n",
    "data_xcep.shape"
   ]
  },
  {
   "cell_type": "code",
   "execution_count": 8,
   "metadata": {},
   "outputs": [
    {
     "data": {
      "text/plain": [
       "torch.Size([25, 24, 2748])"
      ]
     },
     "execution_count": 8,
     "metadata": {},
     "output_type": "execute_result"
    }
   ],
   "source": [
    "data = torch.cat([data_xcep, data_spec], dim=-1)\n",
    "data.shape"
   ]
  },
  {
   "cell_type": "code",
   "execution_count": 9,
   "metadata": {},
   "outputs": [],
   "source": [
    "# import matplotlib.pyplot as plt\n",
    "\n",
    "# # t = t.numpy()\n",
    "# plt.imshow(t.transpose(), aspect='auto', origin='bottom', cmap='jet')"
   ]
  },
  {
   "cell_type": "code",
   "execution_count": 10,
   "metadata": {},
   "outputs": [
    {
     "data": {
      "text/plain": [
       "tensor([[[ 3.4736e-01,  2.3120e-01,  4.2913e-02,  ..., -1.3379e+00,\n",
       "          -1.7537e+00, -1.4854e+00],\n",
       "         [ 1.4201e-01,  1.3520e-01,  3.1020e-01,  ..., -1.4600e+00,\n",
       "          -1.3409e+00, -1.4203e+00],\n",
       "         [ 8.8936e-02,  3.6510e-01,  1.4192e-01,  ..., -1.5401e+00,\n",
       "          -1.3727e+00, -1.8840e+00],\n",
       "         ...,\n",
       "         [ 2.7180e-01,  1.3079e-01,  1.6493e-01,  ..., -1.2839e+00,\n",
       "          -1.4657e+00, -1.3755e+00],\n",
       "         [ 2.8031e-01,  2.5773e-01,  1.5841e-01,  ..., -1.2791e+00,\n",
       "          -1.4905e+00, -1.5813e+00],\n",
       "         [ 1.6904e-01,  4.4492e-01,  2.5560e-01,  ..., -1.7823e+00,\n",
       "          -1.5875e+00, -1.5905e+00]],\n",
       "\n",
       "        [[ 2.5960e-01,  1.8374e-02,  1.1157e-03,  ..., -1.5968e+00,\n",
       "          -1.3002e+00, -1.4684e+00],\n",
       "         [ 1.7712e-01,  2.2126e-01,  7.8873e-02,  ..., -1.2426e+00,\n",
       "          -1.3833e+00, -1.5212e+00],\n",
       "         [ 1.0899e-01,  1.3758e-01,  1.9101e-01,  ..., -1.4018e+00,\n",
       "          -1.2912e+00, -1.8698e+00],\n",
       "         ...,\n",
       "         [ 1.1210e-01,  1.7960e-01,  1.5507e-01,  ..., -1.6879e+00,\n",
       "          -1.4316e+00, -1.7800e+00],\n",
       "         [ 1.9265e-01,  3.1068e-01,  1.6772e-01,  ..., -1.4596e+00,\n",
       "          -1.7667e+00, -1.7836e+00],\n",
       "         [ 2.2774e-01,  1.9499e-01,  2.9582e-01,  ..., -1.3953e+00,\n",
       "          -1.4294e+00, -1.2890e+00]],\n",
       "\n",
       "        [[ 1.9803e-01,  5.2013e-02,  1.9431e-01,  ..., -1.2643e+00,\n",
       "          -1.5929e+00, -1.3630e+00],\n",
       "         [ 1.6319e-01,  7.7939e-02,  7.9513e-02,  ..., -1.3243e+00,\n",
       "          -1.4378e+00, -1.5483e+00],\n",
       "         [ 1.0013e-01,  7.7850e-02,  7.3916e-02,  ..., -1.2021e+00,\n",
       "          -1.4526e+00, -1.7768e+00],\n",
       "         ...,\n",
       "         [ 2.2562e-01,  3.5341e-01,  2.7771e-02,  ..., -1.2256e+00,\n",
       "          -1.3585e+00, -1.4141e+00],\n",
       "         [ 9.5165e-02,  2.3169e-01,  1.6599e-01,  ..., -1.5474e+00,\n",
       "          -1.4994e+00, -1.4309e+00],\n",
       "         [ 1.4974e-01,  1.4213e-01,  1.3472e-01,  ..., -1.3136e+00,\n",
       "          -1.5700e+00, -1.8743e+00]],\n",
       "\n",
       "        ...,\n",
       "\n",
       "        [[ 2.6037e-01,  1.2305e-01,  2.5413e-01,  ..., -1.2737e+00,\n",
       "          -1.7724e+00, -1.2700e+00],\n",
       "         [ 5.8090e-02,  1.7982e-01,  4.0687e-01,  ..., -1.5196e+00,\n",
       "          -1.4844e+00, -1.4545e+00],\n",
       "         [ 7.7590e-02,  2.9404e-01,  3.3182e-01,  ..., -1.7970e+00,\n",
       "          -1.3797e+00, -1.6954e+00],\n",
       "         ...,\n",
       "         [ 1.7391e-01,  2.5026e-01,  1.1293e-01,  ..., -1.5122e+00,\n",
       "          -1.4654e+00, -1.7959e+00],\n",
       "         [ 3.5505e-01,  1.5643e-01,  1.0993e-01,  ..., -1.2907e+00,\n",
       "          -1.3561e+00, -1.6647e+00],\n",
       "         [ 1.2360e-01,  1.0886e-01,  1.5096e-01,  ..., -1.7976e+00,\n",
       "          -1.4213e+00, -1.3508e+00]],\n",
       "\n",
       "        [[ 5.9768e-02,  5.4657e-02,  2.1952e-01,  ..., -1.7469e+00,\n",
       "          -1.5787e+00, -1.7223e+00],\n",
       "         [ 1.2174e-01,  1.6237e-01,  2.5787e-01,  ..., -1.3969e+00,\n",
       "          -1.1589e+00, -1.5621e+00],\n",
       "         [ 2.0952e-01,  8.1743e-02,  2.1373e-01,  ..., -2.0324e+00,\n",
       "          -1.7594e+00, -1.7779e+00],\n",
       "         ...,\n",
       "         [ 4.3393e-02,  1.9076e-01,  1.2653e-01,  ..., -1.3761e+00,\n",
       "          -1.3352e+00, -1.7470e+00],\n",
       "         [ 2.6247e-01,  9.2519e-02,  1.2944e-01,  ..., -1.8828e+00,\n",
       "          -1.9706e+00, -1.5293e+00],\n",
       "         [ 1.6365e-01,  1.8765e-01,  1.1848e-01,  ..., -1.5737e+00,\n",
       "          -1.1866e+00, -1.5172e+00]],\n",
       "\n",
       "        [[ 2.5194e-01,  1.5333e-01,  3.4045e-01,  ..., -1.3893e+00,\n",
       "          -1.5219e+00, -1.4349e+00],\n",
       "         [ 2.3680e-01,  1.5087e-01,  3.3279e-01,  ..., -1.1833e+00,\n",
       "          -1.5225e+00, -1.4521e+00],\n",
       "         [ 1.3560e-01,  8.2024e-02,  3.8733e-01,  ..., -1.1755e+00,\n",
       "          -1.2659e+00, -1.3490e+00],\n",
       "         ...,\n",
       "         [ 2.4201e-01,  2.4582e-01,  1.9178e-01,  ..., -1.4179e+00,\n",
       "          -1.3057e+00, -1.1686e+00],\n",
       "         [ 1.8951e-01,  2.5820e-01,  1.7512e-01,  ..., -1.1814e+00,\n",
       "          -1.8728e+00, -1.4886e+00],\n",
       "         [ 2.5341e-01,  3.3943e-01,  1.4348e-01,  ..., -1.4127e+00,\n",
       "          -1.7163e+00, -1.1247e+00]]], device='cuda:0',\n",
       "       grad_fn=<CopyBackwards>)"
      ]
     },
     "execution_count": 10,
     "metadata": {},
     "output_type": "execute_result"
    }
   ],
   "source": [
    "data.cuda()"
   ]
  },
  {
   "cell_type": "code",
   "execution_count": 2,
   "metadata": {},
   "outputs": [],
   "source": [
    "from torch import nn\n",
    "\n",
    "class FrimageNet(nn.Module):\n",
    "    def __init__(self, feature_size, num_layers=2, num_hidden_nodes=512, device='cuda'):\n",
    "        super(FrimageNet, self).__init__()\n",
    "        self.device = device\n",
    "        self.num_layers = num_layers\n",
    "        self.num_hidden_nodes = num_hidden_nodes\n",
    "\n",
    "        # input dim is 167, output 200\n",
    "        self.lstm = nn.LSTM(feature_size, num_hidden_nodes,\n",
    "                            batch_first=True, num_layers=num_layers)\n",
    "        # fully connected\n",
    "        self.fc1 = nn.Linear(num_hidden_nodes, num_hidden_nodes)\n",
    "        self.act = nn.Sigmoid()\n",
    "        self.fc2 = nn.Linear(num_hidden_nodes, 2)\n",
    "        self.softmax = nn.Softmax()\n",
    "\n",
    "    def forward(self, x, hidden):\n",
    "#         print(x.device, hidden[0].device)\n",
    "        y, hidden = self.lstm(x, hidden)    # returns the two outputs\n",
    "        y = y[:, -1, :]  # get only the last output\n",
    "        y = self.fc1(y)\n",
    "        y = self.fc2(y)\n",
    "        y = F.softmax(y, dim=1)\n",
    "\n",
    "        return y, hidden\n",
    "\n",
    "    def init_hidden(self, batch_size):\n",
    "        weight = next(self.parameters()).datac\n",
    "        hidden = (weight.new(self.num_layers, batch_size, self.num_hidden_nodes).zero_().to(self.device),\n",
    "                  weight.new(self.num_layers, batch_size, self.num_hidden_nodes).zero_().to(self.device))\n",
    "        return hidden\n"
   ]
  },
  {
   "cell_type": "code",
   "execution_count": null,
   "metadata": {},
   "outputs": [],
   "source": [
    "net = FrimageNet(feature_size=100)\n",
    "net = net.cuda()"
   ]
  },
  {
   "cell_type": "code",
   "execution_count": null,
   "metadata": {},
   "outputs": [],
   "source": [
    "h = net.init_hidden(25)\n",
    "data = data.cuda()\n",
    "net(data, h)"
   ]
  },
  {
   "cell_type": "code",
   "execution_count": null,
   "metadata": {},
   "outputs": [],
   "source": [
    "torch.ones(5).cuda()"
   ]
  },
  {
   "cell_type": "code",
   "execution_count": null,
   "metadata": {},
   "outputs": [],
   "source": []
  }
 ],
 "metadata": {
  "kernelspec": {
   "display_name": "Python 3",
   "language": "python",
   "name": "python3"
  },
  "language_info": {
   "codemirror_mode": {
    "name": "ipython",
    "version": 3
   },
   "file_extension": ".py",
   "mimetype": "text/x-python",
   "name": "python",
   "nbconvert_exporter": "python",
   "pygments_lexer": "ipython3",
   "version": "3.7.6"
  },
  "toc": {
   "base_numbering": 1,
   "nav_menu": {},
   "number_sections": true,
   "sideBar": true,
   "skip_h1_title": false,
   "title_cell": "Table of Contents",
   "title_sidebar": "Contents",
   "toc_cell": false,
   "toc_position": {},
   "toc_section_display": true,
   "toc_window_display": false
  }
 },
 "nbformat": 4,
 "nbformat_minor": 4
}
